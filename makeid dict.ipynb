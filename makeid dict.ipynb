{
 "metadata": {
  "language_info": {
   "codemirror_mode": {
    "name": "ipython",
    "version": 3
   },
   "file_extension": ".py",
   "mimetype": "text/x-python",
   "name": "python",
   "nbconvert_exporter": "python",
   "pygments_lexer": "ipython3",
   "version": 3
  },
  "orig_nbformat": 2,
  "kernelspec": {
   "name": "python_defaultSpec_1596400053707",
   "display_name": "Python 3.7.3 64-bit ('base': conda)"
  }
 },
 "nbformat": 4,
 "nbformat_minor": 2,
 "cells": [
  {
   "cell_type": "code",
   "execution_count": 1,
   "metadata": {},
   "outputs": [],
   "source": [
    "import requests\n",
    "from bs4 import BeautifulSoup\n",
    "import nltk\n",
    "from nltk.tokenize import word_tokenize \n",
    "import pandas as pd\n",
    "import numpy as np \n",
    "import matplotlib.pyplot as plt\n",
    "from sklearn.model_selection import train_test_split\n",
    "from sklearn.linear_model import LinearRegression\n",
    "import xgboost as xgb\n",
    "from sklearn.metrics import mean_squared_error, r2_score\n",
    "import time\n",
    "pd.set_option('display.max_columns', 1000)"
   ]
  },
  {
   "cell_type": "code",
   "execution_count": 2,
   "metadata": {},
   "outputs": [],
   "source": [
    "url='https://www.cars.com/for-sale/searchresults.action/?mkId=20088&page={}&perPage=100&rd=30&searchSource=PAGINATION&sort=relevance&stkTypId=28881&zc=75080'\n",
    "result0= requests.get(url.format(1))\n",
    "source=result0.content\n",
    "soup=BeautifulSoup(source,'lxml')"
   ]
  },
  {
   "cell_type": "code",
   "execution_count": 29,
   "metadata": {
    "tags": []
   },
   "outputs": [],
   "source": [
    "makes={}\n",
    "for mk in soup.find_all('label', class_='checkbox__label'):\n",
    "    temp=''\n",
    "    if mk.attrs['for'][:4]=='mkId': # mkid in form of 'mkId-00000'\n",
    "        for i in nltk.word_tokenize(mk.string):\n",
    "            temp+=i+' '\n",
    "        makes[temp[:-1]]=mk.attrs['for'][5:]"
   ]
  },
  {
   "cell_type": "code",
   "execution_count": 36,
   "metadata": {},
   "outputs": [],
   "source": [
    "pd.DataFrame.from_dict(makes,orient='index').to_csv('make-mkId.csv')"
   ]
  },
  {
   "cell_type": "code",
   "execution_count": 41,
   "metadata": {},
   "outputs": [
    {
     "output_type": "execute_result",
     "data": {
      "text/plain": "{'Toyota': 20088,\n 'Acura': 20001,\n 'Alfa Romeo': 20047,\n 'Am General': 20002,\n 'Aston Martin': 20003,\n 'Audi': 20049,\n 'Avanti Motors': 20050,\n 'Bentley': 20051,\n 'BMW': 20005,\n 'Bugatti': 33583,\n 'Buick': 20006,\n 'Cadillac': 20052,\n 'Chevrolet': 20053,\n 'Chrysler': 20008,\n 'Daewoo': 20009,\n 'Daihatsu': 20055,\n 'Dodge': 20012,\n 'Eagle': 20058,\n 'Ferrari': 20014,\n 'FIAT': 20060,\n 'Fisker': 41703,\n 'Ford': 20015,\n 'Genesis': 35354491,\n 'Geo': 20062,\n 'GMC': 20061,\n 'Honda': 20017,\n 'Hummer': 20018,\n 'Hyundai': 20064,\n 'INFINITI': 20019,\n 'International': 20065,\n 'Isuzu': 20020,\n 'Jaguar': 20066,\n 'Jeep': 20021,\n 'Karma': 36365359,\n 'Kia': 20068,\n 'Koenigsegg': 33663,\n 'Lamborghini': 20069,\n 'Land Rover': 20024,\n 'Lexus': 20070,\n 'Lincoln': 20025,\n 'Lotus': 20071,\n 'Maserati': 20072,\n 'Maybach': 20027,\n 'Mazda': 20073,\n 'McLaren': 47903,\n 'Mercedes-Benz': 20028,\n 'Mercury': 20074,\n 'MINI': 20075,\n 'Mitsubishi': 20030,\n 'Morgan': 20076,\n 'Nissan': 20077,\n 'Oldsmobile': 20032,\n 'Pagani': 36785838,\n 'Panoz': 20079,\n 'Peugeot': 20034,\n 'Plymouth': 20080,\n 'Pontiac': 20035,\n 'Porsche': 20081,\n 'Qvale': 20036,\n 'RAM': 44763,\n 'Rolls-Royce': 20037,\n 'Saab': 20038,\n 'Saleen': 20084,\n 'Saturn': 20039,\n 'Scion': 20085,\n 'smart': 20228,\n 'Spyker': 33584,\n 'Sterling': 20040,\n 'Subaru': 20041,\n 'Suzuki': 20042,\n 'Tesla': 28263,\n 'Volkswagen': 20089,\n 'Volvo': 20044,\n 'Yugo': 20045}"
     },
     "metadata": {},
     "execution_count": 41
    }
   ],
   "source": [
    "pd.read_csv('make-mkId.csv', index_col='Unnamed: 0').to_dict()['0']"
   ]
  },
  {
   "cell_type": "code",
   "execution_count": null,
   "metadata": {},
   "outputs": [],
   "source": []
  }
 ]
}